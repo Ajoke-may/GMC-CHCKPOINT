{
 "cells": [
  {
   "cell_type": "code",
   "execution_count": 3,
   "id": "d651bda7-0e0a-4c8b-9c51-7cf59675cf95",
   "metadata": {},
   "outputs": [
    {
     "name": "stdout",
     "output_type": "stream",
     "text": [
      "(1, 2, 3)\n"
     ]
    }
   ],
   "source": [
    "#Write a Python class named Point3D defined by x, y, and z. Define a method that returns (x, y ,z).\n",
    "#This tells Python to represent this object in the following format: (x, y, z). \n",
    "#Then create a variable named my_point containing a new instance of Point3D with x=1, y=2, and z=3 and print it.\n",
    "\n",
    "class Point3D:\n",
    "    def __init__(self, x, y, z):\n",
    "        self.x = x\n",
    "        self.y = y\n",
    "        self.z = z\n",
    "    def __repr__(self):\n",
    "        return f\"({self.x}, {self.y}, {self.z})\"\n",
    "\n",
    "my_point = Point3D(1, 2, 3)\n",
    "print(my_point)"
   ]
  },
  {
   "cell_type": "code",
   "execution_count": 4,
   "id": "70cbb14b-a0c7-4d30-9ef3-2d1fdd5467eb",
   "metadata": {},
   "outputs": [
    {
     "name": "stdout",
     "output_type": "stream",
     "text": [
      "Area: 12\n",
      "Perimeter: 14\n"
     ]
    }
   ],
   "source": [
    "#Write a Python class named Rectangle constructed by a length and width.\n",
    "#Define two methods, area and perimeter, which will compute the area and the perimeter of the rectangle.\n",
    "#Then create a variable named my_rectangle containing a new instance of Rectangle with width=3 and length = 4 and compute both area \n",
    "#and perimeter (the area is expected to be 3*4=12 and perimeter 2*(3+4)=14).\n",
    "\n",
    "class Rectangle:\n",
    "    def __init__(self, width, length):\n",
    "        self.width = width\n",
    "        self.length = length\n",
    "    def area(self):\n",
    "        return self.width * self.length\n",
    "    def perimeter(self):\n",
    "        return 2 * (self.width + self.length)\n",
    "rect = Rectangle(3, 4)\n",
    "print(\"Area:\", rect.area())\n",
    "print(\"Perimeter:\", rect.perimeter()) "
   ]
  },
  {
   "cell_type": "code",
   "execution_count": 7,
   "id": "e927b4fd-9d2a-4d87-925f-e47064eee45a",
   "metadata": {},
   "outputs": [
    {
     "name": "stdout",
     "output_type": "stream",
     "text": [
      "Area: 78.5\n",
      "Perimeter: 31.400000000000002\n",
      "Is point (3, 4) inside the circle? True\n",
      "Is point (6, 0) inside the circle? False\n"
     ]
    }
   ],
   "source": [
    "#Write a Python  class named Circle constructed by its center O and radius r.\n",
    "#Define two methods, area and perimeter, which will compute the area and the perimeter of the circle, \n",
    "#and is Inside() method which allows you to test whether a point A(x, y) belongs to the circle C(O, r) or not.\n",
    "import math\n",
    "class Circle:\n",
    "    def __init__(self, center, radius):\n",
    "        self.center = center\n",
    "        self.radius = radius\n",
    "    def area(self):\n",
    "        return 3.14 * (self.radius ** 2)\n",
    "    def perimeter(self):\n",
    "        return 2 * 3.14 * self.radius\n",
    "    def is_inside(self, point):\n",
    "        distance = math.sqrt((point[0] - self.center[0])**2 + (point[1] - self.center[1])**2)\n",
    "        return distance <= self.radius\n",
    "my_circle = Circle((0, 0), 5)\n",
    "print(\"Area:\", my_circle.area())\n",
    "print(\"Perimeter:\", my_circle.perimeter())      \n",
    "print(\"Is point (3, 4) inside the circle?\", my_circle.is_inside((3, 4))) \n",
    "print(\"Is point (6, 0) inside the circle?\", my_circle.is_inside((6, 0)))  "
   ]
  },
  {
   "cell_type": "code",
   "execution_count": 8,
   "id": "0055163f-ab79-4236-9a3a-e4e4851bb353",
   "metadata": {},
   "outputs": [
    {
     "name": "stdout",
     "output_type": "stream",
     "text": [
      "190000\n"
     ]
    }
   ],
   "source": [
    "#Suppose we want to model a bank account with support for deposit and withdraw operations. Let’s create a Python class named Bank defined by its balance.\n",
    "#Define two methods, deposit and withdraw, to compute the new amount of each operation.\n",
    "class BankAccount:\n",
    "    def __init__(self, account_number, balance):\n",
    "        self.account_number = account_number  # Public attribute\n",
    "        self.__balance = balance  # Private attribute\n",
    "\n",
    "    def deposit(self, amount):\n",
    "        if amount > 0:\n",
    "            self.__balance += amount\n",
    "\n",
    "    def withdraw(self, amount):\n",
    "        if 0 < amount <= self.__balance:\n",
    "            self.__balance -= amount\n",
    "\n",
    "    def get_balance(self):\n",
    "        return self.__balance\n",
    "        \n",
    "account = BankAccount(\"987612345\", 200000)\n",
    "account.deposit(10000)\n",
    "account.withdraw(20000)\n",
    "print(account.get_balance())  "
   ]
  },
  {
   "cell_type": "code",
   "execution_count": null,
   "id": "3db77b56-8c68-4986-b43f-c1844462a656",
   "metadata": {},
   "outputs": [],
   "source": []
  }
 ],
 "metadata": {
  "kernelspec": {
   "display_name": "Python 3 (ipykernel)",
   "language": "python",
   "name": "python3"
  },
  "language_info": {
   "codemirror_mode": {
    "name": "ipython",
    "version": 3
   },
   "file_extension": ".py",
   "mimetype": "text/x-python",
   "name": "python",
   "nbconvert_exporter": "python",
   "pygments_lexer": "ipython3",
   "version": "3.11.7"
  }
 },
 "nbformat": 4,
 "nbformat_minor": 5
}
