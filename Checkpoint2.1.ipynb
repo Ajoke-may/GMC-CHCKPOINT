{
 "cells": [
  {
   "cell_type": "code",
   "execution_count": 1,
   "id": "7ba0ee0d-5887-44f9-aa90-29430012f47b",
   "metadata": {},
   "outputs": [
    {
     "name": "stdout",
     "output_type": "stream",
     "text": [
      "36\n"
     ]
    }
   ],
   "source": [
    "#Write a Python program that multiplies all the items in a list.\n",
    "list = [2, 3, 6]\n",
    "multiply_list = (2*3*6)\n",
    "\n",
    "print(multiply_list)"
   ]
  },
  {
   "cell_type": "code",
   "execution_count": 2,
   "id": "33a24988-486b-42b5-9104-7ac7e7c263cd",
   "metadata": {},
   "outputs": [
    {
     "name": "stdout",
     "output_type": "stream",
     "text": [
      "Sorted list: [(2, 1), (1, 2), (2, 3), (4, 4), (2, 5)]\n"
     ]
    }
   ],
   "source": [
    "#Write a Python program to get a list, sorted in increasing order by the last element in each tuple, from a given list of non-empty tuples.\n",
    "tuples_list = [(2, 5), (1, 2), (4, 4), (2, 3), (2, 1)]\n",
    "\n",
    "def get_last_element(t):\n",
    "    return t[-1]\n",
    "\n",
    "sorted_list = sorted(tuples_list, key=get_last_element)\n",
    "\n",
    "print(\"Sorted list:\", sorted_list)\n"
   ]
  },
  {
   "cell_type": "code",
   "execution_count": 3,
   "id": "7abecbe4-cbce-443e-a9c6-67262b6f0e3a",
   "metadata": {},
   "outputs": [
    {
     "data": {
      "text/plain": [
       "{'a': 400, 'b': 400, 'c': 300, 'd': 400}"
      ]
     },
     "execution_count": 3,
     "metadata": {},
     "output_type": "execute_result"
    }
   ],
   "source": [
    "#Write a Python program that combines two dictionaries by adding values for common keys.\n",
    "\n",
    "d1 = {'a': 100, 'b': 200, 'c':300}\n",
    "\n",
    "d2 = {'a': 300, 'b': 200, 'd':400}\n",
    "\n",
    "for key, value in d2.items():\n",
    "    if key in d1:\n",
    "        d1[key] = d1[key] + value\n",
    "    else:\n",
    "        d1[key] = value\n",
    "d1"
   ]
  },
  {
   "cell_type": "code",
   "execution_count": 4,
   "id": "54c64bd1-80f7-465e-b256-bf3297744c3c",
   "metadata": {},
   "outputs": [
    {
     "name": "stdout",
     "output_type": "stream",
     "text": [
      "{1: 1, 2: 4, 3: 9, 4: 16, 5: 25, 6: 36, 7: 49, 8: 64}\n"
     ]
    }
   ],
   "source": [
    "#With a given integral number n, write a program to generate a dictionary that contains (i, i*i) so that is an integral number between 1 and n(both included).\n",
    "\n",
    "n = 8\n",
    "x = {i: i*i for i in range(1, n+1)}\n",
    "print(x)"
   ]
  },
  {
   "cell_type": "code",
   "execution_count": 6,
   "id": "d75ed9df-087d-4945-b726-54ae6e250748",
   "metadata": {},
   "outputs": [
    {
     "name": "stdout",
     "output_type": "stream",
     "text": [
      "[('item3', '24.5'), ('item2', '15.10'), ('item1', '12.20')]\n"
     ]
    }
   ],
   "source": [
    "#Write a program to sort a tuple by its float element.\n",
    "i_list = [('item1', '12.20'), ('item2', '15.10'), ('item3', '24.5')]\n",
    "\n",
    "# Sort the list of tuples by the float element\n",
    "sorted_list = sorted(i_list, key=lambda item: float(item[-1]), reverse=True)\n",
    "\n",
    "# Print the sorted list\n",
    "print(sorted_list)"
   ]
  },
  {
   "cell_type": "code",
   "execution_count": 10,
   "id": "b6656b50-0c8e-46fb-b82d-5d47a001e430",
   "metadata": {},
   "outputs": [
    {
     "name": "stdout",
     "output_type": "stream",
     "text": [
      "Created set: {0, 1, 2, 3, 4}\n",
      "Iterating over the set: {0, 1, 2, 3, 4}\n",
      "Set after adding members: {0, 1, 2, 3, 4, 5}\n",
      "Set after removing items: {0, 2, 3, 4, 5}\n"
     ]
    }
   ],
   "source": [
    "#Write a Python program to create a set.\n",
    "e = {0, 1, 2, 3, 4}\n",
    "print(\"Created set:\", e)\n",
    "\n",
    "# Iterate over the set\n",
    "print(\"Iterating over the set:\", e)\n",
    "\n",
    "# Add members to the set\n",
    "e.add(5)\n",
    "print(\"Set after adding members:\", e)\n",
    "\n",
    "e.remove(1)\n",
    "print(\"Set after removing items:\", e)"
   ]
  },
  {
   "cell_type": "code",
   "execution_count": null,
   "id": "51b8a36f-c419-4a04-a5e6-8fd37ff536ba",
   "metadata": {},
   "outputs": [],
   "source": []
  }
 ],
 "metadata": {
  "kernelspec": {
   "display_name": "Python 3 (ipykernel)",
   "language": "python",
   "name": "python3"
  },
  "language_info": {
   "codemirror_mode": {
    "name": "ipython",
    "version": 3
   },
   "file_extension": ".py",
   "mimetype": "text/x-python",
   "name": "python",
   "nbconvert_exporter": "python",
   "pygments_lexer": "ipython3",
   "version": "3.11.7"
  }
 },
 "nbformat": 4,
 "nbformat_minor": 5
}
