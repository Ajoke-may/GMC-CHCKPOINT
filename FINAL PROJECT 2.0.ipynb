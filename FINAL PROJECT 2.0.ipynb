{
 "cells": [
  {
   "cell_type": "code",
   "execution_count": 26,
   "id": "a5629f9e-6416-4f26-ae70-d652be1d01ba",
   "metadata": {},
   "outputs": [],
   "source": [
    "import tkinter as tk\n",
    "import random\n",
    "\n",
    "def determine_winner(player_choice):\n",
    "    options = ['Rock', 'Paper', 'Scissors']\n",
    "    computer_choice = random.choice(options)\n",
    "    \n",
    "    if player_choice == computer_choice:\n",
    "        result.set(f\"Draw! Computer chose {computer_choice}.\")\n",
    "    elif (player_choice == 'Rock' and computer_choice == 'Scissors') or \\\n",
    "         (player_choice == 'Scissors' and computer_choice == 'Paper') or \\\n",
    "         (player_choice == 'Paper' and computer_choice == 'Rock'):\n",
    "        result.set(f\"You Win! Computer chose {computer_choice}.\")\n",
    "    else:\n",
    "        result.set(f\"You Lose! Computer chose {computer_choice}.\")\n",
    "\n",
    "def exit_game():\n",
    "    root.destroy()\n",
    "\n",
    "root = tk.Tk()\n",
    "root.title(\"Rock-Paper-Scissors\")\n",
    "root.geometry('400x300')\n",
    "root.resizable(1, 1)\n",
    "root.config(bg='orange')\n",
    "\n",
    "result = tk.StringVar()\n",
    "result.set(\"Make your choice by clicking the button!\")\n",
    "\n",
    "tk.Label(root, text='Rock, Paper, Scissors Game', font='\"Arial Black\" 18 bold', bg='orange', fg='black').pack(pady=20)\n",
    "tk.Button(root, text=\"Rock\", width=25, command=lambda: determine_winner('Rock')).pack(pady=5)\n",
    "tk.Button(root, text=\"Paper\", width=25, command=lambda: determine_winner('Paper')).pack(pady=5)\n",
    "tk.Button(root, text=\"Scissors\", width=25, command=lambda: determine_winner('Scissors')).pack(pady=5)\n",
    "tk.Label(root, textvariable=result, font=(\"Arial Black\", 12, \"bold\"), bg='orange', fg='black').pack(pady=20)\n",
    "tk.Button(root, text=\"Exit\", width=15, command=exit_game).pack(pady=10)\n",
    "\n",
    "root.mainloop()\n"
   ]
  },
  {
   "cell_type": "code",
   "execution_count": null,
   "id": "31561a89-e3dd-4cec-afe2-efadc1d2a1ed",
   "metadata": {},
   "outputs": [],
   "source": []
  }
 ],
 "metadata": {
  "kernelspec": {
   "display_name": "Python 3 (ipykernel)",
   "language": "python",
   "name": "python3"
  },
  "language_info": {
   "codemirror_mode": {
    "name": "ipython",
    "version": 3
   },
   "file_extension": ".py",
   "mimetype": "text/x-python",
   "name": "python",
   "nbconvert_exporter": "python",
   "pygments_lexer": "ipython3",
   "version": "3.11.7"
  }
 },
 "nbformat": 4,
 "nbformat_minor": 5
}
