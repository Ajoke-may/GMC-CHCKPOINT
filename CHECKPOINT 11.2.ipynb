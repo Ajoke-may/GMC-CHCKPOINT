{
 "cells": [
  {
   "cell_type": "code",
   "execution_count": 9,
   "id": "b8651fb5-56e2-437e-ac92-858c6903c8ec",
   "metadata": {},
   "outputs": [],
   "source": [
    "import tkinter as tk\n",
    "from tkinter import ttk\n",
    "\n",
    "def Fahrenheit_to_Celsius(entry, result_label):\n",
    "    try:\n",
    "        F = float(entry.get())\n",
    "        C = (F - 32) * 0.5556\n",
    "        result_label.config(text=f\"{round(C, 2)} \\N{DEGREE CELSIUS}\")\n",
    "    except ValueError:\n",
    "        result_label.config(text=\"Invalid input\")\n",
    "\n",
    "def Celsius_to_Fahrenheit(entry, result_label):\n",
    "    try:\n",
    "        C = float(entry.get())\n",
    "        F = 1.8 * C + 32\n",
    "        result_label.config(text=f\"{round(F, 2)} \\N{DEGREE FAHRENHEIT}\")\n",
    "    except ValueError:\n",
    "        result_label.config(text=\"Invalid input\")\n",
    "\n",
    "# Create the main window\n",
    "window = tk.Tk()\n",
    "window.title(\"Temperature Converter\")\n",
    "window.geometry(\"300x150\")\n",
    "\n",
    "entry = tk.Entry(window, width=10)\n",
    "entry.grid(row=0, column=1, padx=10, pady=10)\n",
    "\n",
    "# Create labels\n",
    "entry_label = ttk.Label(window, text=\"Enter value:\")\n",
    "entry_label.grid(row=0, column=0, padx=10, pady=10)\n",
    "\n",
    "result_label = ttk.Label(window, text=\"\")\n",
    "result_label.grid(row=1, column=1, padx=10, pady=10)\n",
    "\n",
    "# Create buttons\n",
    "Fahrenheit_to_Celsius_button = ttk.Button(window, text=\"Fahrenheit to Celsius\", command=lambda: Fahrenheit_to_Celsius(entry, result_label))\n",
    "Fahrenheit_to_Celsius_button.grid(row=2, column=0, padx=10, pady=10)\n",
    "\n",
    "Celsius_to_Fahrenheit_button = ttk.Button(window, text=\"Celsius to Fahrenheit\", command=lambda: Celsius_to_Fahrenheit(entry, result_label))\n",
    "Celsius_to_Fahrenheit_button.grid(row=2, column=1, padx=10, pady=10)\n",
    "\n",
    "# Start the Tkinter event loop\n",
    "window.mainloop()"
   ]
  },
  {
   "cell_type": "code",
   "execution_count": null,
   "id": "40deb86e-ef47-41da-b86d-f951e8f3b844",
   "metadata": {},
   "outputs": [],
   "source": []
  }
 ],
 "metadata": {
  "kernelspec": {
   "display_name": "Python 3 (ipykernel)",
   "language": "python",
   "name": "python3"
  },
  "language_info": {
   "codemirror_mode": {
    "name": "ipython",
    "version": 3
   },
   "file_extension": ".py",
   "mimetype": "text/x-python",
   "name": "python",
   "nbconvert_exporter": "python",
   "pygments_lexer": "ipython3",
   "version": "3.11.7"
  }
 },
 "nbformat": 4,
 "nbformat_minor": 5
}
